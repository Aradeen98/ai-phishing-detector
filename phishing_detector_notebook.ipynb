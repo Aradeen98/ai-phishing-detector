{
 "cells": [
  {
   "cell_type": "markdown",
   "metadata": {},
   "source": [
    "# AI Phishing Email Detector\n",
    "### Using Natural Language Processing (NLP) and Machine Learning\n",
    "\n",
    "This project demonstrates how to use AI to detect phishing emails using text-based features, logistic regression, and word vectorization techniques."
   ]
  },
  {
   "cell_type": "code",
   "metadata": {},
   "source": [
    "import pandas as pd\n",
    "from sklearn.model_selection import train_test_split\n",
    "from sklearn.feature_extraction.text import TfidfVectorizer\n",
    "from sklearn.linear_model import LogisticRegression\n",
    "from sklearn.metrics import accuracy_score\n",
    "\n",
    "# Sample dataset\n",
    "data = {\n",
    "    'email_text': [\n",
    "        'Your account has been suspended, click here to verify',\n",
    "        'Meeting tomorrow at 10am, please confirm attendance',\n",
    "        'Update your payment method immediately to avoid service interruption',\n",
    "        'Lunch at 12 with the new interns',\n",
    "        'You have won a free iPhone! Click to claim now'\n",
    "    ],\n",
    "    'label': [1, 0, 1, 0, 1]\n",
    "}\n",
    "\n",
    "df = pd.DataFrame(data)\n",
    "\n",
    "# Vectorize text\n",
    "vectorizer = TfidfVectorizer()\n",
    "X = vectorizer.fit_transform(df['email_text'])\n",
    "y = df['label']\n",
    "\n",
    "# Train/test split\n",
    "X_train, X_test, y_train, y_test = train_test_split(X, y, test_size=0.2, random_state=42)\n",
    "\n",
    "# Model training\n",
    "model = LogisticRegression()\n",
    "model.fit(X_train, y_train)\n",
    "\n",
    "# Prediction and accuracy\n",
    "predictions = model.predict(X_test)\n",
    "accuracy = accuracy_score(y_test, predictions)\n",
    "print(f'Model accuracy: {accuracy * 100:.2f}%')"
   ]
  }
 ],
 "metadata": {},
 "nbformat": 4,
 "nbformat_minor": 5
}
